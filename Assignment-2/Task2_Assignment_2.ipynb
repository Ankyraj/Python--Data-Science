{
 "cells": [
  {
   "cell_type": "markdown",
   "metadata": {},
   "source": [
    "Task2 Ques 1.1:-"
   ]
  },
  {
   "cell_type": "code",
   "execution_count": 35,
   "metadata": {},
   "outputs": [
    {
     "name": "stdout",
     "output_type": "stream",
     "text": [
      "a=2\n",
      "b=4\n",
      "c=6\n",
      "Area of Traingle: 0.0\n"
     ]
    }
   ],
   "source": [
    "class poly:\n",
    "    def __init__(self,a,b,c):\n",
    "        self.a = float(a)\n",
    "        self.b = float(b)\n",
    "        self.c = float(c)\n",
    "\n",
    "class triangle(poly):\n",
    "    def __init__(self,a,b,c):\n",
    "        super().__init__(a,b,c)\n",
    "\n",
    "    def get_area(self):\n",
    "        s = (a + b + c) // 2\n",
    "        return (s*(s-a)*(s-b)*(s-c)) ** 0.5  \n",
    "    \n",
    "a= int(input(\"a=\"))\n",
    "b= int(input(\"b=\"))\n",
    "c= int(input(\"c=\"))\n",
    "\n",
    "t = triangle(a,b,c)\n",
    "print(\"Area of Traingle: {}\".format(t.get_area()))"
   ]
  },
  {
   "cell_type": "markdown",
   "metadata": {},
   "source": [
    "Task2 Ques 1.2:-"
   ]
  },
  {
   "cell_type": "code",
   "execution_count": 39,
   "metadata": {},
   "outputs": [
    {
     "name": "stdout",
     "output_type": "stream",
     "text": [
      "Ankit,Raj,Kashyap,Anky\n",
      "3\n",
      "Ankit,Kashyap,Anky\n"
     ]
    }
   ],
   "source": [
    "def long_words(lst,leng):\n",
    "    return (w for w in lst if len(w) > leng)\n",
    "\n",
    "ai = input().split(',')\n",
    "leng = int(input())\n",
    "print(','.join(long_words(ai,leng)))"
   ]
  },
  {
   "cell_type": "markdown",
   "metadata": {},
   "source": [
    "Task2 Ques 2.1:-"
   ]
  },
  {
   "cell_type": "code",
   "execution_count": 42,
   "metadata": {},
   "outputs": [
    {
     "name": "stdout",
     "output_type": "stream",
     "text": [
      "ab,cde,erty\n",
      "2,3,4\n"
     ]
    }
   ],
   "source": [
    "def leng_words(lst):\n",
    "    return(len(w) for w in lst)\n",
    "\n",
    "ai = input().split(',')\n",
    "print(','.join(map(str,leng_words(ai))))"
   ]
  },
  {
   "cell_type": "markdown",
   "metadata": {},
   "source": [
    "Task2 Ques 2.2:-"
   ]
  },
  {
   "cell_type": "code",
   "execution_count": 45,
   "metadata": {},
   "outputs": [
    {
     "name": "stdout",
     "output_type": "stream",
     "text": [
      "A\n",
      "True\n"
     ]
    }
   ],
   "source": [
    "def check_char(s):\n",
    "    if s in 'aeiou' or s in 'AEIOU':\n",
    "        return(True)\n",
    "    else:\n",
    "        return(False)\n",
    "    \n",
    "s = input()\n",
    "print(check_char(s))"
   ]
  },
  {
   "cell_type": "code",
   "execution_count": null,
   "metadata": {},
   "outputs": [],
   "source": []
  }
 ],
 "metadata": {
  "kernelspec": {
   "display_name": "Python 3",
   "language": "python",
   "name": "python3"
  },
  "language_info": {
   "codemirror_mode": {
    "name": "ipython",
    "version": 3
   },
   "file_extension": ".py",
   "mimetype": "text/x-python",
   "name": "python",
   "nbconvert_exporter": "python",
   "pygments_lexer": "ipython3",
   "version": "3.7.6"
  }
 },
 "nbformat": 4,
 "nbformat_minor": 4
}
