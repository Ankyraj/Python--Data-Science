{
 "cells": [
  {
   "cell_type": "markdown",
   "metadata": {},
   "source": [
    "Task1\n",
    "Ques 1.1:-"
   ]
  },
  {
   "cell_type": "code",
   "execution_count": 10,
   "metadata": {},
   "outputs": [
    {
     "name": "stdout",
     "output_type": "stream",
     "text": [
      "1 3 5 6 2\n",
      "17\n"
     ]
    }
   ],
   "source": [
    "def fun_reduce(l):   # for addition reduce\n",
    "    a = l[0]\n",
    "    b = l[1]\n",
    "    for i in range(len(l)-2):\n",
    "        c = a + b\n",
    "        b = c\n",
    "        a = l[i+2]\n",
    "\n",
    "    return (c+l[-1])\n",
    "\n",
    "arr = list(map(int,input().split()))\n",
    "print(fun_reduce(arr))"
   ]
  },
  {
   "cell_type": "markdown",
   "metadata": {},
   "source": [
    "Task1\n",
    "Ques 1.2:-"
   ]
  },
  {
   "cell_type": "code",
   "execution_count": 12,
   "metadata": {},
   "outputs": [
    {
     "name": "stdout",
     "output_type": "stream",
     "text": [
      "0 2 8 "
     ]
    }
   ],
   "source": [
    "def fun_filter(l):\n",
    "    for i in l:\n",
    "        if i%2 == 0:\n",
    "            print(i,end=' ')\n",
    "\n",
    "if __name__ == '__main__':\n",
    "    arr = [0, 1, 2, 3, 5, 8, 13]\n",
    "    fun_filter(arr)"
   ]
  },
  {
   "cell_type": "markdown",
   "metadata": {},
   "source": [
    "Task1 \n",
    "Ques 2:-"
   ]
  },
  {
   "cell_type": "code",
   "execution_count": 17,
   "metadata": {},
   "outputs": [
    {
     "name": "stdout",
     "output_type": "stream",
     "text": [
      "['A', 'C', 'A', 'C', 'G', 'I', 'L', 'D']\n"
     ]
    }
   ],
   "source": [
    "#(1)\n",
    "s = 'ACACGILD'\n",
    "print([i for i in s])"
   ]
  },
  {
   "cell_type": "code",
   "execution_count": 66,
   "metadata": {},
   "outputs": [
    {
     "name": "stdout",
     "output_type": "stream",
     "text": [
      "['x', 'xx', 'xxx', 'xxxx', 'y', 'yy', 'yyy', 'yyyy', 'z', 'zz', 'zzz', 'zzzz']\n"
     ]
    }
   ],
   "source": [
    "#(2)\n",
    "s = 'xyz'\n",
    "l = [i*j for j in range(1,5) for i in s]\n",
    "print(sorted(l))"
   ]
  },
  {
   "cell_type": "code",
   "execution_count": 23,
   "metadata": {},
   "outputs": [
    {
     "name": "stdout",
     "output_type": "stream",
     "text": [
      "['x', 'y', 'z', 'xx', 'yy', 'zz', 'xxx', 'yyy', 'zzz', 'xxxx', 'yyyy', 'zzzz']\n"
     ]
    }
   ],
   "source": [
    "#(3)\n",
    "s = 'xyz'\n",
    "l = [i*j for j in range(1,5) for i in s]\n",
    "print(l)"
   ]
  },
  {
   "cell_type": "code",
   "execution_count": 61,
   "metadata": {},
   "outputs": [
    {
     "name": "stdout",
     "output_type": "stream",
     "text": [
      "[[2], [3], [4], [3], [4], [5], [4], [5], [6]]\n"
     ]
    }
   ],
   "source": [
    "#(4)\n",
    "a = '234'\n",
    "lst = [[int(a[i])+j] for i in range(3) for j in range(0,3)]\n",
    "print(lst)"
   ]
  },
  {
   "cell_type": "code",
   "execution_count": 58,
   "metadata": {},
   "outputs": [
    {
     "name": "stdout",
     "output_type": "stream",
     "text": [
      "[[2, 3, 4, 5], [3, 4, 5, 6], [4, 5, 6, 7], [5, 6, 7, 8]]\n"
     ]
    }
   ],
   "source": [
    "#(5)\n",
    "lst = [[2],[3],[4],[5],[6],[7],[8]]\n",
    "lst2 = [[lst[j + i][0] for i in range(4)] for j in range(4)]\n",
    "print(lst2)"
   ]
  },
  {
   "cell_type": "code",
   "execution_count": 63,
   "metadata": {},
   "outputs": [
    {
     "name": "stdout",
     "output_type": "stream",
     "text": [
      "[(1, 1), (2, 1), (3, 1), (1, 2), (2, 2), (3, 2), (1, 3), (2, 3), (3, 3)]\n"
     ]
    }
   ],
   "source": [
    "#(6)\n",
    "lst = [(j,i) for i in range(1,4) for j in range(1,4)]\n",
    "print(lst)"
   ]
  },
  {
   "cell_type": "markdown",
   "metadata": {},
   "source": [
    "Task1 Ques3:-"
   ]
  },
  {
   "cell_type": "code",
   "execution_count": 71,
   "metadata": {},
   "outputs": [
    {
     "name": "stdout",
     "output_type": "stream",
     "text": [
      "Ankit,Raj,Kashyap,AnkyRaj\n",
      "Kashyap AnkyRaj "
     ]
    }
   ],
   "source": [
    "def longestWord(l):\n",
    "    lst = []\n",
    "    for i in l:\n",
    "        lst.append([len(i),l.index(i)])\n",
    "    lst = sorted(lst)\n",
    "    maxm = lst[-1][0]\n",
    "    \n",
    "    for i in lst:\n",
    "        if i[0] == maxm:                 #if more than one longest length of word then return all\n",
    "            print(l[i[1]],end=' ')\n",
    "            \n",
    "if __name__ == '__main__':\n",
    "    arr = list(map(str,input().split(',')))\n",
    "    longestWord(arr)"
   ]
  },
  {
   "cell_type": "code",
   "execution_count": null,
   "metadata": {},
   "outputs": [],
   "source": []
  }
 ],
 "metadata": {
  "kernelspec": {
   "display_name": "Python 3",
   "language": "python",
   "name": "python3"
  },
  "language_info": {
   "codemirror_mode": {
    "name": "ipython",
    "version": 3
   },
   "file_extension": ".py",
   "mimetype": "text/x-python",
   "name": "python",
   "nbconvert_exporter": "python",
   "pygments_lexer": "ipython3",
   "version": "3.7.6"
  }
 },
 "nbformat": 4,
 "nbformat_minor": 4
}
