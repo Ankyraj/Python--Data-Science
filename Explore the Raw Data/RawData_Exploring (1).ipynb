{
 "cells": [
  {
   "cell_type": "markdown",
   "id": "offensive-decimal",
   "metadata": {},
   "source": [
    "# Exploring the Raw Data"
   ]
  },
  {
   "cell_type": "code",
   "execution_count": 1,
   "id": "advance-cotton",
   "metadata": {},
   "outputs": [
    {
     "data": {
      "text/html": [
       "<div>\n",
       "<style scoped>\n",
       "    .dataframe tbody tr th:only-of-type {\n",
       "        vertical-align: middle;\n",
       "    }\n",
       "\n",
       "    .dataframe tbody tr th {\n",
       "        vertical-align: top;\n",
       "    }\n",
       "\n",
       "    .dataframe thead th {\n",
       "        text-align: right;\n",
       "    }\n",
       "</style>\n",
       "<table border=\"1\" class=\"dataframe\">\n",
       "  <thead>\n",
       "    <tr style=\"text-align: right;\">\n",
       "      <th></th>\n",
       "      <th>5/21/2021</th>\n",
       "      <th>08:25:00pm</th>\n",
       "      <th>1028</th>\n",
       "      <th>-996</th>\n",
       "      <th>11244</th>\n",
       "      <th>-485</th>\n",
       "      <th>-841</th>\n",
       "      <th>488</th>\n",
       "    </tr>\n",
       "  </thead>\n",
       "  <tbody>\n",
       "    <tr>\n",
       "      <th>0</th>\n",
       "      <td>5/21/2021</td>\n",
       "      <td>08:25:00pm</td>\n",
       "      <td>1168</td>\n",
       "      <td>-1084</td>\n",
       "      <td>11248</td>\n",
       "      <td>-537</td>\n",
       "      <td>-740</td>\n",
       "      <td>488</td>\n",
       "    </tr>\n",
       "    <tr>\n",
       "      <th>1</th>\n",
       "      <td>5/21/2021</td>\n",
       "      <td>08:25:00pm</td>\n",
       "      <td>1020</td>\n",
       "      <td>-1084</td>\n",
       "      <td>11304</td>\n",
       "      <td>-503</td>\n",
       "      <td>-754</td>\n",
       "      <td>500</td>\n",
       "    </tr>\n",
       "    <tr>\n",
       "      <th>2</th>\n",
       "      <td>5/21/2021</td>\n",
       "      <td>08:25:00pm</td>\n",
       "      <td>968</td>\n",
       "      <td>-1100</td>\n",
       "      <td>11388</td>\n",
       "      <td>-402</td>\n",
       "      <td>-1029</td>\n",
       "      <td>482</td>\n",
       "    </tr>\n",
       "    <tr>\n",
       "      <th>3</th>\n",
       "      <td>5/21/2021</td>\n",
       "      <td>08:25:00pm</td>\n",
       "      <td>392</td>\n",
       "      <td>-1352</td>\n",
       "      <td>11828</td>\n",
       "      <td>-649</td>\n",
       "      <td>-476</td>\n",
       "      <td>486</td>\n",
       "    </tr>\n",
       "    <tr>\n",
       "      <th>4</th>\n",
       "      <td>5/21/2021</td>\n",
       "      <td>08:25:00pm</td>\n",
       "      <td>928</td>\n",
       "      <td>-1032</td>\n",
       "      <td>11316</td>\n",
       "      <td>-555</td>\n",
       "      <td>-686</td>\n",
       "      <td>495</td>\n",
       "    </tr>\n",
       "  </tbody>\n",
       "</table>\n",
       "</div>"
      ],
      "text/plain": [
       "   5/21/2021  08:25:00pm  1028  -996  11244  -485  -841  488\n",
       "0  5/21/2021  08:25:00pm  1168 -1084  11248  -537  -740  488\n",
       "1  5/21/2021  08:25:00pm  1020 -1084  11304  -503  -754  500\n",
       "2  5/21/2021  08:25:00pm   968 -1100  11388  -402 -1029  482\n",
       "3  5/21/2021  08:25:00pm   392 -1352  11828  -649  -476  486\n",
       "4  5/21/2021  08:25:00pm   928 -1032  11316  -555  -686  495"
      ]
     },
     "execution_count": 1,
     "metadata": {},
     "output_type": "execute_result"
    }
   ],
   "source": [
    "import pandas as pd\n",
    "df = pd.read_csv(\"RawData_246F28274A7C_MAY_21.txt\", delimiter = '\\t')  #Importing Data\n",
    "df.head()"
   ]
  },
  {
   "cell_type": "code",
   "execution_count": 2,
   "id": "creative-circus",
   "metadata": {},
   "outputs": [],
   "source": [
    "j = 0\n",
    "s = 'abcdefghi'                        # Rename each column name\n",
    "for i in df.columns:\n",
    "    df.rename(columns = {i: s[j]}, inplace = True)\n",
    "    j += 1"
   ]
  },
  {
   "cell_type": "code",
   "execution_count": 3,
   "id": "sustained-tuition",
   "metadata": {},
   "outputs": [
    {
     "data": {
      "text/html": [
       "<div>\n",
       "<style scoped>\n",
       "    .dataframe tbody tr th:only-of-type {\n",
       "        vertical-align: middle;\n",
       "    }\n",
       "\n",
       "    .dataframe tbody tr th {\n",
       "        vertical-align: top;\n",
       "    }\n",
       "\n",
       "    .dataframe thead th {\n",
       "        text-align: right;\n",
       "    }\n",
       "</style>\n",
       "<table border=\"1\" class=\"dataframe\">\n",
       "  <thead>\n",
       "    <tr style=\"text-align: right;\">\n",
       "      <th></th>\n",
       "      <th>a</th>\n",
       "      <th>b</th>\n",
       "      <th>c</th>\n",
       "      <th>d</th>\n",
       "      <th>e</th>\n",
       "      <th>f</th>\n",
       "      <th>g</th>\n",
       "      <th>h</th>\n",
       "    </tr>\n",
       "  </thead>\n",
       "  <tbody>\n",
       "    <tr>\n",
       "      <th>0</th>\n",
       "      <td>5/21/2021</td>\n",
       "      <td>08:25:00pm</td>\n",
       "      <td>1168</td>\n",
       "      <td>-1084</td>\n",
       "      <td>11248</td>\n",
       "      <td>-537</td>\n",
       "      <td>-740</td>\n",
       "      <td>488</td>\n",
       "    </tr>\n",
       "    <tr>\n",
       "      <th>1</th>\n",
       "      <td>5/21/2021</td>\n",
       "      <td>08:25:00pm</td>\n",
       "      <td>1020</td>\n",
       "      <td>-1084</td>\n",
       "      <td>11304</td>\n",
       "      <td>-503</td>\n",
       "      <td>-754</td>\n",
       "      <td>500</td>\n",
       "    </tr>\n",
       "    <tr>\n",
       "      <th>2</th>\n",
       "      <td>5/21/2021</td>\n",
       "      <td>08:25:00pm</td>\n",
       "      <td>968</td>\n",
       "      <td>-1100</td>\n",
       "      <td>11388</td>\n",
       "      <td>-402</td>\n",
       "      <td>-1029</td>\n",
       "      <td>482</td>\n",
       "    </tr>\n",
       "    <tr>\n",
       "      <th>3</th>\n",
       "      <td>5/21/2021</td>\n",
       "      <td>08:25:00pm</td>\n",
       "      <td>392</td>\n",
       "      <td>-1352</td>\n",
       "      <td>11828</td>\n",
       "      <td>-649</td>\n",
       "      <td>-476</td>\n",
       "      <td>486</td>\n",
       "    </tr>\n",
       "    <tr>\n",
       "      <th>4</th>\n",
       "      <td>5/21/2021</td>\n",
       "      <td>08:25:00pm</td>\n",
       "      <td>928</td>\n",
       "      <td>-1032</td>\n",
       "      <td>11316</td>\n",
       "      <td>-555</td>\n",
       "      <td>-686</td>\n",
       "      <td>495</td>\n",
       "    </tr>\n",
       "    <tr>\n",
       "      <th>...</th>\n",
       "      <td>...</td>\n",
       "      <td>...</td>\n",
       "      <td>...</td>\n",
       "      <td>...</td>\n",
       "      <td>...</td>\n",
       "      <td>...</td>\n",
       "      <td>...</td>\n",
       "      <td>...</td>\n",
       "    </tr>\n",
       "    <tr>\n",
       "      <th>257993</th>\n",
       "      <td>5/21/2021</td>\n",
       "      <td>11:58:53pm</td>\n",
       "      <td>1000</td>\n",
       "      <td>-1096</td>\n",
       "      <td>11372</td>\n",
       "      <td>-591</td>\n",
       "      <td>-681</td>\n",
       "      <td>454</td>\n",
       "    </tr>\n",
       "    <tr>\n",
       "      <th>257994</th>\n",
       "      <td>5/21/2021</td>\n",
       "      <td>11:58:53pm</td>\n",
       "      <td>1020</td>\n",
       "      <td>-1116</td>\n",
       "      <td>11412</td>\n",
       "      <td>-582</td>\n",
       "      <td>-691</td>\n",
       "      <td>479</td>\n",
       "    </tr>\n",
       "    <tr>\n",
       "      <th>257995</th>\n",
       "      <td>5/21/2021</td>\n",
       "      <td>11:58:53pm</td>\n",
       "      <td>1120</td>\n",
       "      <td>-1132</td>\n",
       "      <td>11532</td>\n",
       "      <td>-567</td>\n",
       "      <td>-708</td>\n",
       "      <td>493</td>\n",
       "    </tr>\n",
       "    <tr>\n",
       "      <th>257996</th>\n",
       "      <td>5/21/2021</td>\n",
       "      <td>11:58:53pm</td>\n",
       "      <td>1004</td>\n",
       "      <td>-988</td>\n",
       "      <td>11320</td>\n",
       "      <td>-593</td>\n",
       "      <td>-718</td>\n",
       "      <td>477</td>\n",
       "    </tr>\n",
       "    <tr>\n",
       "      <th>257997</th>\n",
       "      <td>5/21/2021</td>\n",
       "      <td>11:58:53pm</td>\n",
       "      <td>912</td>\n",
       "      <td>-1052</td>\n",
       "      <td>11356</td>\n",
       "      <td>-584</td>\n",
       "      <td>-727</td>\n",
       "      <td>471</td>\n",
       "    </tr>\n",
       "  </tbody>\n",
       "</table>\n",
       "<p>257998 rows × 8 columns</p>\n",
       "</div>"
      ],
      "text/plain": [
       "                a           b     c     d      e    f     g    h\n",
       "0       5/21/2021  08:25:00pm  1168 -1084  11248 -537  -740  488\n",
       "1       5/21/2021  08:25:00pm  1020 -1084  11304 -503  -754  500\n",
       "2       5/21/2021  08:25:00pm   968 -1100  11388 -402 -1029  482\n",
       "3       5/21/2021  08:25:00pm   392 -1352  11828 -649  -476  486\n",
       "4       5/21/2021  08:25:00pm   928 -1032  11316 -555  -686  495\n",
       "...           ...         ...   ...   ...    ...  ...   ...  ...\n",
       "257993  5/21/2021  11:58:53pm  1000 -1096  11372 -591  -681  454\n",
       "257994  5/21/2021  11:58:53pm  1020 -1116  11412 -582  -691  479\n",
       "257995  5/21/2021  11:58:53pm  1120 -1132  11532 -567  -708  493\n",
       "257996  5/21/2021  11:58:53pm  1004  -988  11320 -593  -718  477\n",
       "257997  5/21/2021  11:58:53pm   912 -1052  11356 -584  -727  471\n",
       "\n",
       "[257998 rows x 8 columns]"
      ]
     },
     "execution_count": 3,
     "metadata": {},
     "output_type": "execute_result"
    }
   ],
   "source": [
    "df"
   ]
  },
  {
   "cell_type": "markdown",
   "id": "confidential-covering",
   "metadata": {},
   "source": [
    "Attributes of Data:"
   ]
  },
  {
   "cell_type": "code",
   "execution_count": 4,
   "id": "sized-pittsburgh",
   "metadata": {},
   "outputs": [
    {
     "data": {
      "text/plain": [
       "RangeIndex(start=0, stop=257998, step=1)"
      ]
     },
     "execution_count": 4,
     "metadata": {},
     "output_type": "execute_result"
    }
   ],
   "source": [
    "df.index    # To get the index(row) labels of dataframes"
   ]
  },
  {
   "cell_type": "code",
   "execution_count": 5,
   "id": "corrected-lawsuit",
   "metadata": {},
   "outputs": [
    {
     "data": {
      "text/plain": [
       "Index(['a', 'b', 'c', 'd', 'e', 'f', 'g', 'h'], dtype='object')"
      ]
     },
     "execution_count": 5,
     "metadata": {},
     "output_type": "execute_result"
    }
   ],
   "source": [
    "df.columns  # To get the column labels of the dataframes"
   ]
  },
  {
   "cell_type": "code",
   "execution_count": 6,
   "id": "affected-leone",
   "metadata": {},
   "outputs": [
    {
     "name": "stdout",
     "output_type": "stream",
     "text": [
      "257998 8\n"
     ]
    }
   ],
   "source": [
    "row, col = df.shape # To get the dimensionality of the dataframe\n",
    "print(row, col)"
   ]
  },
  {
   "cell_type": "code",
   "execution_count": 7,
   "id": "trying-unemployment",
   "metadata": {},
   "outputs": [
    {
     "data": {
      "text/plain": [
       "2063984"
      ]
     },
     "execution_count": 7,
     "metadata": {},
     "output_type": "execute_result"
    }
   ],
   "source": [
    "df.size  # To get the total number of elements from the dataframe"
   ]
  },
  {
   "cell_type": "code",
   "execution_count": 8,
   "id": "listed-cemetery",
   "metadata": {},
   "outputs": [
    {
     "data": {
      "text/plain": [
       "Index        128\n",
       "a        2063984\n",
       "b        2063984\n",
       "c        2063984\n",
       "d        2063984\n",
       "e        2063984\n",
       "f        2063984\n",
       "g        2063984\n",
       "h        2063984\n",
       "dtype: int64"
      ]
     },
     "execution_count": 8,
     "metadata": {},
     "output_type": "execute_result"
    }
   ],
   "source": [
    "df.memory_usage() # The memory usage of each column in bytes"
   ]
  },
  {
   "cell_type": "code",
   "execution_count": 9,
   "id": "strong-harassment",
   "metadata": {},
   "outputs": [
    {
     "data": {
      "text/plain": [
       "2"
      ]
     },
     "execution_count": 9,
     "metadata": {},
     "output_type": "execute_result"
    }
   ],
   "source": [
    "df.ndim  # The no. of axes/array dimensions"
   ]
  },
  {
   "cell_type": "markdown",
   "id": "domestic-storage",
   "metadata": {},
   "source": [
    "Indexing & Selecting the data:"
   ]
  },
  {
   "cell_type": "code",
   "execution_count": 10,
   "id": "retained-rabbit",
   "metadata": {},
   "outputs": [
    {
     "data": {
      "text/html": [
       "<div>\n",
       "<style scoped>\n",
       "    .dataframe tbody tr th:only-of-type {\n",
       "        vertical-align: middle;\n",
       "    }\n",
       "\n",
       "    .dataframe tbody tr th {\n",
       "        vertical-align: top;\n",
       "    }\n",
       "\n",
       "    .dataframe thead th {\n",
       "        text-align: right;\n",
       "    }\n",
       "</style>\n",
       "<table border=\"1\" class=\"dataframe\">\n",
       "  <thead>\n",
       "    <tr style=\"text-align: right;\">\n",
       "      <th></th>\n",
       "      <th>a</th>\n",
       "      <th>b</th>\n",
       "      <th>c</th>\n",
       "      <th>d</th>\n",
       "      <th>e</th>\n",
       "      <th>f</th>\n",
       "      <th>g</th>\n",
       "      <th>h</th>\n",
       "    </tr>\n",
       "  </thead>\n",
       "  <tbody>\n",
       "    <tr>\n",
       "      <th>0</th>\n",
       "      <td>5/21/2021</td>\n",
       "      <td>08:25:00pm</td>\n",
       "      <td>1168</td>\n",
       "      <td>-1084</td>\n",
       "      <td>11248</td>\n",
       "      <td>-537</td>\n",
       "      <td>-740</td>\n",
       "      <td>488</td>\n",
       "    </tr>\n",
       "    <tr>\n",
       "      <th>1</th>\n",
       "      <td>5/21/2021</td>\n",
       "      <td>08:25:00pm</td>\n",
       "      <td>1020</td>\n",
       "      <td>-1084</td>\n",
       "      <td>11304</td>\n",
       "      <td>-503</td>\n",
       "      <td>-754</td>\n",
       "      <td>500</td>\n",
       "    </tr>\n",
       "    <tr>\n",
       "      <th>2</th>\n",
       "      <td>5/21/2021</td>\n",
       "      <td>08:25:00pm</td>\n",
       "      <td>968</td>\n",
       "      <td>-1100</td>\n",
       "      <td>11388</td>\n",
       "      <td>-402</td>\n",
       "      <td>-1029</td>\n",
       "      <td>482</td>\n",
       "    </tr>\n",
       "  </tbody>\n",
       "</table>\n",
       "</div>"
      ],
      "text/plain": [
       "           a           b     c     d      e    f     g    h\n",
       "0  5/21/2021  08:25:00pm  1168 -1084  11248 -537  -740  488\n",
       "1  5/21/2021  08:25:00pm  1020 -1084  11304 -503  -754  500\n",
       "2  5/21/2021  08:25:00pm   968 -1100  11388 -402 -1029  482"
      ]
     },
     "execution_count": 10,
     "metadata": {},
     "output_type": "execute_result"
    }
   ],
   "source": [
    "df.head(3)  # returns the first 3 rows from the dataframes"
   ]
  },
  {
   "cell_type": "code",
   "execution_count": 11,
   "id": "female-mount",
   "metadata": {},
   "outputs": [
    {
     "data": {
      "text/html": [
       "<div>\n",
       "<style scoped>\n",
       "    .dataframe tbody tr th:only-of-type {\n",
       "        vertical-align: middle;\n",
       "    }\n",
       "\n",
       "    .dataframe tbody tr th {\n",
       "        vertical-align: top;\n",
       "    }\n",
       "\n",
       "    .dataframe thead th {\n",
       "        text-align: right;\n",
       "    }\n",
       "</style>\n",
       "<table border=\"1\" class=\"dataframe\">\n",
       "  <thead>\n",
       "    <tr style=\"text-align: right;\">\n",
       "      <th></th>\n",
       "      <th>a</th>\n",
       "      <th>b</th>\n",
       "      <th>c</th>\n",
       "      <th>d</th>\n",
       "      <th>e</th>\n",
       "      <th>f</th>\n",
       "      <th>g</th>\n",
       "      <th>h</th>\n",
       "    </tr>\n",
       "  </thead>\n",
       "  <tbody>\n",
       "    <tr>\n",
       "      <th>257993</th>\n",
       "      <td>5/21/2021</td>\n",
       "      <td>11:58:53pm</td>\n",
       "      <td>1000</td>\n",
       "      <td>-1096</td>\n",
       "      <td>11372</td>\n",
       "      <td>-591</td>\n",
       "      <td>-681</td>\n",
       "      <td>454</td>\n",
       "    </tr>\n",
       "    <tr>\n",
       "      <th>257994</th>\n",
       "      <td>5/21/2021</td>\n",
       "      <td>11:58:53pm</td>\n",
       "      <td>1020</td>\n",
       "      <td>-1116</td>\n",
       "      <td>11412</td>\n",
       "      <td>-582</td>\n",
       "      <td>-691</td>\n",
       "      <td>479</td>\n",
       "    </tr>\n",
       "    <tr>\n",
       "      <th>257995</th>\n",
       "      <td>5/21/2021</td>\n",
       "      <td>11:58:53pm</td>\n",
       "      <td>1120</td>\n",
       "      <td>-1132</td>\n",
       "      <td>11532</td>\n",
       "      <td>-567</td>\n",
       "      <td>-708</td>\n",
       "      <td>493</td>\n",
       "    </tr>\n",
       "    <tr>\n",
       "      <th>257996</th>\n",
       "      <td>5/21/2021</td>\n",
       "      <td>11:58:53pm</td>\n",
       "      <td>1004</td>\n",
       "      <td>-988</td>\n",
       "      <td>11320</td>\n",
       "      <td>-593</td>\n",
       "      <td>-718</td>\n",
       "      <td>477</td>\n",
       "    </tr>\n",
       "    <tr>\n",
       "      <th>257997</th>\n",
       "      <td>5/21/2021</td>\n",
       "      <td>11:58:53pm</td>\n",
       "      <td>912</td>\n",
       "      <td>-1052</td>\n",
       "      <td>11356</td>\n",
       "      <td>-584</td>\n",
       "      <td>-727</td>\n",
       "      <td>471</td>\n",
       "    </tr>\n",
       "  </tbody>\n",
       "</table>\n",
       "</div>"
      ],
      "text/plain": [
       "                a           b     c     d      e    f    g    h\n",
       "257993  5/21/2021  11:58:53pm  1000 -1096  11372 -591 -681  454\n",
       "257994  5/21/2021  11:58:53pm  1020 -1116  11412 -582 -691  479\n",
       "257995  5/21/2021  11:58:53pm  1120 -1132  11532 -567 -708  493\n",
       "257996  5/21/2021  11:58:53pm  1004  -988  11320 -593 -718  477\n",
       "257997  5/21/2021  11:58:53pm   912 -1052  11356 -584 -727  471"
      ]
     },
     "execution_count": 11,
     "metadata": {},
     "output_type": "execute_result"
    }
   ],
   "source": [
    "df.tail(5)  # returns the last 5 rows from the dataframes"
   ]
  },
  {
   "cell_type": "markdown",
   "id": "seventh-grenada",
   "metadata": {},
   "source": [
    "DataTypes:"
   ]
  },
  {
   "cell_type": "code",
   "execution_count": 12,
   "id": "collaborative-wichita",
   "metadata": {},
   "outputs": [
    {
     "data": {
      "text/plain": [
       "a    object\n",
       "b    object\n",
       "c     int64\n",
       "d     int64\n",
       "e     int64\n",
       "f     int64\n",
       "g     int64\n",
       "h     int64\n",
       "dtype: object"
      ]
     },
     "execution_count": 12,
     "metadata": {},
     "output_type": "execute_result"
    }
   ],
   "source": [
    "df.dtypes  # Returns a series with the dataType of each column"
   ]
  },
  {
   "cell_type": "code",
   "execution_count": 13,
   "id": "exotic-nightlife",
   "metadata": {},
   "outputs": [
    {
     "data": {
      "text/plain": [
       "int64     6\n",
       "object    2\n",
       "dtype: int64"
      ]
     },
     "execution_count": 13,
     "metadata": {},
     "output_type": "execute_result"
    }
   ],
   "source": [
    "df.dtypes.value_counts()  # Returns counts of unique DataType in the dataframe"
   ]
  },
  {
   "cell_type": "code",
   "execution_count": 14,
   "id": "dangerous-hungary",
   "metadata": {},
   "outputs": [
    {
     "data": {
      "text/html": [
       "<div>\n",
       "<style scoped>\n",
       "    .dataframe tbody tr th:only-of-type {\n",
       "        vertical-align: middle;\n",
       "    }\n",
       "\n",
       "    .dataframe tbody tr th {\n",
       "        vertical-align: top;\n",
       "    }\n",
       "\n",
       "    .dataframe thead th {\n",
       "        text-align: right;\n",
       "    }\n",
       "</style>\n",
       "<table border=\"1\" class=\"dataframe\">\n",
       "  <thead>\n",
       "    <tr style=\"text-align: right;\">\n",
       "      <th></th>\n",
       "      <th>c</th>\n",
       "      <th>d</th>\n",
       "      <th>e</th>\n",
       "      <th>f</th>\n",
       "      <th>g</th>\n",
       "      <th>h</th>\n",
       "    </tr>\n",
       "  </thead>\n",
       "  <tbody>\n",
       "    <tr>\n",
       "      <th>0</th>\n",
       "      <td>1168</td>\n",
       "      <td>-1084</td>\n",
       "      <td>11248</td>\n",
       "      <td>-537</td>\n",
       "      <td>-740</td>\n",
       "      <td>488</td>\n",
       "    </tr>\n",
       "    <tr>\n",
       "      <th>1</th>\n",
       "      <td>1020</td>\n",
       "      <td>-1084</td>\n",
       "      <td>11304</td>\n",
       "      <td>-503</td>\n",
       "      <td>-754</td>\n",
       "      <td>500</td>\n",
       "    </tr>\n",
       "    <tr>\n",
       "      <th>2</th>\n",
       "      <td>968</td>\n",
       "      <td>-1100</td>\n",
       "      <td>11388</td>\n",
       "      <td>-402</td>\n",
       "      <td>-1029</td>\n",
       "      <td>482</td>\n",
       "    </tr>\n",
       "    <tr>\n",
       "      <th>3</th>\n",
       "      <td>392</td>\n",
       "      <td>-1352</td>\n",
       "      <td>11828</td>\n",
       "      <td>-649</td>\n",
       "      <td>-476</td>\n",
       "      <td>486</td>\n",
       "    </tr>\n",
       "    <tr>\n",
       "      <th>4</th>\n",
       "      <td>928</td>\n",
       "      <td>-1032</td>\n",
       "      <td>11316</td>\n",
       "      <td>-555</td>\n",
       "      <td>-686</td>\n",
       "      <td>495</td>\n",
       "    </tr>\n",
       "    <tr>\n",
       "      <th>...</th>\n",
       "      <td>...</td>\n",
       "      <td>...</td>\n",
       "      <td>...</td>\n",
       "      <td>...</td>\n",
       "      <td>...</td>\n",
       "      <td>...</td>\n",
       "    </tr>\n",
       "    <tr>\n",
       "      <th>257993</th>\n",
       "      <td>1000</td>\n",
       "      <td>-1096</td>\n",
       "      <td>11372</td>\n",
       "      <td>-591</td>\n",
       "      <td>-681</td>\n",
       "      <td>454</td>\n",
       "    </tr>\n",
       "    <tr>\n",
       "      <th>257994</th>\n",
       "      <td>1020</td>\n",
       "      <td>-1116</td>\n",
       "      <td>11412</td>\n",
       "      <td>-582</td>\n",
       "      <td>-691</td>\n",
       "      <td>479</td>\n",
       "    </tr>\n",
       "    <tr>\n",
       "      <th>257995</th>\n",
       "      <td>1120</td>\n",
       "      <td>-1132</td>\n",
       "      <td>11532</td>\n",
       "      <td>-567</td>\n",
       "      <td>-708</td>\n",
       "      <td>493</td>\n",
       "    </tr>\n",
       "    <tr>\n",
       "      <th>257996</th>\n",
       "      <td>1004</td>\n",
       "      <td>-988</td>\n",
       "      <td>11320</td>\n",
       "      <td>-593</td>\n",
       "      <td>-718</td>\n",
       "      <td>477</td>\n",
       "    </tr>\n",
       "    <tr>\n",
       "      <th>257997</th>\n",
       "      <td>912</td>\n",
       "      <td>-1052</td>\n",
       "      <td>11356</td>\n",
       "      <td>-584</td>\n",
       "      <td>-727</td>\n",
       "      <td>471</td>\n",
       "    </tr>\n",
       "  </tbody>\n",
       "</table>\n",
       "<p>257998 rows × 6 columns</p>\n",
       "</div>"
      ],
      "text/plain": [
       "           c     d      e    f     g    h\n",
       "0       1168 -1084  11248 -537  -740  488\n",
       "1       1020 -1084  11304 -503  -754  500\n",
       "2        968 -1100  11388 -402 -1029  482\n",
       "3        392 -1352  11828 -649  -476  486\n",
       "4        928 -1032  11316 -555  -686  495\n",
       "...      ...   ...    ...  ...   ...  ...\n",
       "257993  1000 -1096  11372 -591  -681  454\n",
       "257994  1020 -1116  11412 -582  -691  479\n",
       "257995  1120 -1132  11532 -567  -708  493\n",
       "257996  1004  -988  11320 -593  -718  477\n",
       "257997   912 -1052  11356 -584  -727  471\n",
       "\n",
       "[257998 rows x 6 columns]"
      ]
     },
     "execution_count": 14,
     "metadata": {},
     "output_type": "execute_result"
    }
   ],
   "source": [
    "df.select_dtypes(exclude = [object])  # Returns a subsets of the columns from dataframe based on the col's datatype"
   ]
  },
  {
   "cell_type": "code",
   "execution_count": 15,
   "id": "social-miracle",
   "metadata": {},
   "outputs": [
    {
     "data": {
      "text/html": [
       "<div>\n",
       "<style scoped>\n",
       "    .dataframe tbody tr th:only-of-type {\n",
       "        vertical-align: middle;\n",
       "    }\n",
       "\n",
       "    .dataframe tbody tr th {\n",
       "        vertical-align: top;\n",
       "    }\n",
       "\n",
       "    .dataframe thead th {\n",
       "        text-align: right;\n",
       "    }\n",
       "</style>\n",
       "<table border=\"1\" class=\"dataframe\">\n",
       "  <thead>\n",
       "    <tr style=\"text-align: right;\">\n",
       "      <th></th>\n",
       "      <th>a</th>\n",
       "      <th>b</th>\n",
       "    </tr>\n",
       "  </thead>\n",
       "  <tbody>\n",
       "    <tr>\n",
       "      <th>0</th>\n",
       "      <td>5/21/2021</td>\n",
       "      <td>08:25:00pm</td>\n",
       "    </tr>\n",
       "    <tr>\n",
       "      <th>1</th>\n",
       "      <td>5/21/2021</td>\n",
       "      <td>08:25:00pm</td>\n",
       "    </tr>\n",
       "    <tr>\n",
       "      <th>2</th>\n",
       "      <td>5/21/2021</td>\n",
       "      <td>08:25:00pm</td>\n",
       "    </tr>\n",
       "    <tr>\n",
       "      <th>3</th>\n",
       "      <td>5/21/2021</td>\n",
       "      <td>08:25:00pm</td>\n",
       "    </tr>\n",
       "    <tr>\n",
       "      <th>4</th>\n",
       "      <td>5/21/2021</td>\n",
       "      <td>08:25:00pm</td>\n",
       "    </tr>\n",
       "    <tr>\n",
       "      <th>...</th>\n",
       "      <td>...</td>\n",
       "      <td>...</td>\n",
       "    </tr>\n",
       "    <tr>\n",
       "      <th>257993</th>\n",
       "      <td>5/21/2021</td>\n",
       "      <td>11:58:53pm</td>\n",
       "    </tr>\n",
       "    <tr>\n",
       "      <th>257994</th>\n",
       "      <td>5/21/2021</td>\n",
       "      <td>11:58:53pm</td>\n",
       "    </tr>\n",
       "    <tr>\n",
       "      <th>257995</th>\n",
       "      <td>5/21/2021</td>\n",
       "      <td>11:58:53pm</td>\n",
       "    </tr>\n",
       "    <tr>\n",
       "      <th>257996</th>\n",
       "      <td>5/21/2021</td>\n",
       "      <td>11:58:53pm</td>\n",
       "    </tr>\n",
       "    <tr>\n",
       "      <th>257997</th>\n",
       "      <td>5/21/2021</td>\n",
       "      <td>11:58:53pm</td>\n",
       "    </tr>\n",
       "  </tbody>\n",
       "</table>\n",
       "<p>257998 rows × 2 columns</p>\n",
       "</div>"
      ],
      "text/plain": [
       "                a           b\n",
       "0       5/21/2021  08:25:00pm\n",
       "1       5/21/2021  08:25:00pm\n",
       "2       5/21/2021  08:25:00pm\n",
       "3       5/21/2021  08:25:00pm\n",
       "4       5/21/2021  08:25:00pm\n",
       "...           ...         ...\n",
       "257993  5/21/2021  11:58:53pm\n",
       "257994  5/21/2021  11:58:53pm\n",
       "257995  5/21/2021  11:58:53pm\n",
       "257996  5/21/2021  11:58:53pm\n",
       "257997  5/21/2021  11:58:53pm\n",
       "\n",
       "[257998 rows x 2 columns]"
      ]
     },
     "execution_count": 15,
     "metadata": {},
     "output_type": "execute_result"
    }
   ],
   "source": [
    "df.select_dtypes(include = [object])"
   ]
  },
  {
   "cell_type": "code",
   "execution_count": 16,
   "id": "artistic-malta",
   "metadata": {},
   "outputs": [
    {
     "name": "stdout",
     "output_type": "stream",
     "text": [
      "<class 'pandas.core.frame.DataFrame'>\n",
      "RangeIndex: 257998 entries, 0 to 257997\n",
      "Data columns (total 8 columns):\n",
      " #   Column  Non-Null Count   Dtype \n",
      "---  ------  --------------   ----- \n",
      " 0   a       257998 non-null  object\n",
      " 1   b       257998 non-null  object\n",
      " 2   c       257998 non-null  int64 \n",
      " 3   d       257998 non-null  int64 \n",
      " 4   e       257998 non-null  int64 \n",
      " 5   f       257998 non-null  int64 \n",
      " 6   g       257998 non-null  int64 \n",
      " 7   h       257998 non-null  int64 \n",
      "dtypes: int64(6), object(2)\n",
      "memory usage: 15.7+ MB\n"
     ]
    }
   ],
   "source": [
    "df.info() # Returns a concise summary of a dataframe"
   ]
  },
  {
   "cell_type": "code",
   "execution_count": null,
   "id": "previous-dollar",
   "metadata": {},
   "outputs": [],
   "source": []
  }
 ],
 "metadata": {
  "kernelspec": {
   "display_name": "Python 3",
   "language": "python",
   "name": "python3"
  },
  "language_info": {
   "codemirror_mode": {
    "name": "ipython",
    "version": 3
   },
   "file_extension": ".py",
   "mimetype": "text/x-python",
   "name": "python",
   "nbconvert_exporter": "python",
   "pygments_lexer": "ipython3",
   "version": "3.6.13"
  }
 },
 "nbformat": 4,
 "nbformat_minor": 5
}
